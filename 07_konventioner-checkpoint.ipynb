{
 "cells": [
  {
   "cell_type": "markdown",
   "id": "9799136c-28e3-4c25-9585-241385dd2803",
   "metadata": {},
   "source": [
    "# Uppgifter, Kapitel 7 - Konventioner och standarder"
   ]
  },
  {
   "cell_type": "markdown",
   "id": "1565038d-c4c8-4da0-af92-3fc60587fb8b",
   "metadata": {},
   "source": [
    "1. Läs \"PEP 8 – Style Guide for \n",
    "Python Cod\"  och besvaranedanstående frågor.\n",
    " \n",
    "   a) Om du arbetar i ett projekt som har ett internt dokument med \"style guidelines\" där vissa saker går emot vad PEP8 säger. Vad gör du då?\n",
    "   \n",
    "   b) På vilket språk skall kommentarer generellt sett skrivas.\n",
    "   \n",
    "   c) Hur skall funktioner och variabler namnges?\n",
    "   \n",
    "   d) Hur skall klasser namnges?\n",
    "   \n",
    "   e) Om du i ditt skript importerar exempelvis en modul, vart i skriptet skall koden som utför importen placeras?\n",
    "   \n",
    "   f) Enligt PEP8, skall man använda enkla ('my_string') eller dubbla (\"my_string\") citattecken för att skapa en sträng?\n",
    "   \n",
    "   g) Vilket av \"Alternativ 1\" och \"Alternativ 2\" nedan är det korrekta sättet att skriva koden på enligt PEP8?"
   ]
  },
  {
   "cell_type": "code",
   "execution_count": 1,
   "id": "c6cdc9fa-8b18-49ed-a68f-db94479750ac",
   "metadata": {},
   "outputs": [],
   "source": [
    "# Alternativ 1\n",
    "a1 = 5 + 2\n",
    "\n",
    "# Alternativ 2\n",
    "a2=5+2"
   ]
  },
  {
   "cell_type": "code",
   "execution_count": null,
   "id": "829819eb-1174-420d-bf53-e86a7c992bb2",
   "metadata": {},
   "outputs": [],
   "source": [
    "### Svar på frågor om PEP 8\n",
    "\n",
    "a) Följ projektets interna riktlinjer. Konsistens inom projektet är viktigare än att strikt följa PEP8, men diskutera eventuella avvikelser.\n",
    "\n",
    "b) Kommentarer ska skrivas på engelska.\n",
    "\n",
    "c) Funktioner och variabler ska namnges med små bokstäver och ord separerade med understreck (snake_case), t.ex. `calculate_total`.\n",
    "\n",
    "d) Klasser ska namnges med CamelCase, t.ex. `BankAccount`.\n",
    "\n",
    "e) Importer ska placeras högst upp i skriptet, direkt efter eventuella docstrings.\n",
    "\n",
    "f) Det finns ingen specifik preferens mellan enkla eller dubbla citattecken. Var konsekvent.\n",
    "\n",
    "g) Alternativ 1 är korrekt:\n",
    "    \n",
    "a1 = 5 + 2\n"
   ]
  },
  {
   "cell_type": "markdown",
   "id": "2d096e06-bce1-4145-9c5d-f4d3a6d01107",
   "metadata": {},
   "source": [
    "2. I \"PEP20 - The Zen of Python\" så står det:\n",
    "   \n",
    "   a) \"Explicit is better than implicit.\" Vad tror du det innebär? Kan du exemplifiera?\n",
    "   \n",
    "   b) \"Simple is better than complex.\" Vad tror du det innebär? Kan du exemplifiera? ."
   ]
  },
  {
   "cell_type": "code",
   "execution_count": null,
   "id": "5bb92cfa-0330-4114-bb5a-ff795ae349a0",
   "metadata": {},
   "outputs": [],
   "source": [
    "a) \"Explicit is better than implicit.\" innebär att kod bör vara tydlig och självklar snarare än att dölja sitt syfte. Exempel: Använd `x.copy()` för att kopiera en lista istället för att bara skapa en ny referens, så att det blir tydligt att du arbetar med en kopia av listan.\n",
    "\n",
    "b) \"Simple is better than complex.\" innebär att det är bättre att använda enklare lösningar som är lättare att förstå och underhålla än komplicerade lösningar. Exempel: Dela upp en komplex funktion i flera mindre och mer specifika funktioner för bättre läsbarhet och hanterbarhet.\n"
   ]
  },
  {
   "cell_type": "markdown",
   "id": "78ca2c6f-b3bb-4d36-bddf-38a46ebca1bd",
   "metadata": {},
   "source": [
    "3. Du och din nya kollega har en fikapaus och han säger följande: \"Det känns krångligt att vi alla skall behöva följa konventioner och standarder. Är det inte lättare om alla bara skriver kod på det sättet som de vill, sålänge som den fungerar\"? Vad svarar du? "
   ]
  },
  {
   "cell_type": "code",
   "execution_count": null,
   "id": "1a12c350-2dee-4786-ab0b-989a42484581",
   "metadata": {},
   "outputs": [],
   "source": [
    "Att följa konventioner och standarder gör koden konsekvent, lättläst och enklare att underhålla, särskilt i team och större projekt. Om alla skriver på sitt eget sätt blir det svårare att förstå varandras kod, vilket kan leda till fler buggar och längre utvecklingstid. Konventioner hjälper oss att samarbeta bättre och minska risken för missförstånd.\n"
   ]
  }
 ],
 "metadata": {
  "kernelspec": {
   "display_name": "Python 3 (ipykernel)",
   "language": "python",
   "name": "python3"
  },
  "language_info": {
   "codemirror_mode": {
    "name": "ipython",
    "version": 3
   },
   "file_extension": ".py",
   "mimetype": "text/x-python",
   "name": "python",
   "nbconvert_exporter": "python",
   "pygments_lexer": "ipython3",
   "version": "3.11.5"
  }
 },
 "nbformat": 4,
 "nbformat_minor": 5
}
