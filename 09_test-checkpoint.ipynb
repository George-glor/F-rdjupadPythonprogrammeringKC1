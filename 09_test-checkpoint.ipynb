{
 "cells": [
  {
   "cell_type": "markdown",
   "id": "99fdf965-6382-4144-b08f-30fea759de05",
   "metadata": {},
   "source": [
    "# Uppgifter, Kapitel 9 - Test"
   ]
  },
  {
   "cell_type": "markdown",
   "id": "0f780504-b98f-4bfc-a3ed-ec42d7a3cdce",
   "metadata": {},
   "source": [
    "1. Varför är det generellt sett en god idé att bygga upp tester för sin kod? "
   ]
  },
  {
   "cell_type": "code",
   "execution_count": null,
   "id": "8c45b6da-0d99-46e1-b5dd-bec67f79cb25",
   "metadata": {},
   "outputs": [],
   "source": [
    "Förhindrar buggar vid förändringar och gör det enklare att underhålla och utveckla programmet."
   ]
  },
  {
   "cell_type": "markdown",
   "id": "f96d800b-c554-4fbc-935b-1513d1d88302",
   "metadata": {},
   "source": [
    "2. Nedan ser du funktionen multiply_two_numbers. Använd \"doctest\" modulen för att implementera några test för funktionen \"multiply_two_numbers\". \n",
    "Den läsare som önskar kan även implementera testen i modulen \"pytest\". "
   ]
  },
  {
   "cell_type": "code",
   "execution_count": 1,
   "id": "4d9efa9f-ad7f-4a60-9cbc-7c9a83e474d9",
   "metadata": {},
   "outputs": [],
   "source": [
    "def multiply_two_numbers(a, b):\n",
    "    \"\"\"Return the product of a and b.\"\"\"\n",
    "    return a*b"
   ]
  },
  {
   "cell_type": "code",
   "execution_count": 7,
   "id": "6abe6e97-272f-41ec-b5f5-b64bb125da2e",
   "metadata": {},
   "outputs": [
    {
     "data": {
      "text/plain": [
       "TestResults(failed=0, attempted=4)"
      ]
     },
     "execution_count": 7,
     "metadata": {},
     "output_type": "execute_result"
    }
   ],
   "source": [
    "# Aktivera doctest i Jupyter Notebook\n",
    "def multiply_two_numbers(a, b):\n",
    "    \"\"\"\n",
    "    Return the product of a and b.\n",
    "\n",
    "    >>> multiply_two_numbers(3, 4)\n",
    "    12\n",
    "    >>> multiply_two_numbers(0, 5)\n",
    "    0\n",
    "    >>> multiply_two_numbers(-2, 3)\n",
    "    -6\n",
    "    >>> multiply_two_numbers(7, -3)\n",
    "    -21\n",
    "    \"\"\"\n",
    "    return a * b\n",
    "\n",
    "import doctest\n",
    "doctest.testmod()\n",
    "# Allt fungerar som det ska!\n"
   ]
  },
  {
   "cell_type": "markdown",
   "id": "5e6b613d-6415-4f99-bfb2-83fe23b15c7d",
   "metadata": {},
   "source": [
    "3. Skriv någon kod eller använd någon kod som du till exempel skrivit i tidigare kapitels uppgifter och implementera några test. Använd \"doctest\" och/eller \"pytest\" modulen. "
   ]
  },
  {
   "cell_type": "code",
   "execution_count": null,
   "id": "c6e9a955",
   "metadata": {},
   "outputs": [],
   "source": [
    "import pytest\n",
    "import tempfile\n",
    "import os\n",
    "\n",
    "# Create a temporary directory for pytest\n",
    "with tempfile.TemporaryDirectory() as temp_dir:\n",
    "    # Change to the temporary directory\n",
    "    os.chdir(temp_dir)\n",
    "    \n",
    "    # Run pytest and specify the test directory\n",
    "    pytest.main([\n",
    "        '-v', \n",
    "        '--maxfail=1', \n",
    "        '--disable-warnings', \n",
    "        '--tb=short', \n",
    "        '--rootdir=' + temp_dir,\n",
    "        '--basetemp=' + temp_dir\n",
    "    ])\n"
   ]
  }
 ],
 "metadata": {
  "kernelspec": {
   "display_name": "Python 3 (ipykernel)",
   "language": "python",
   "name": "python3"
  },
  "language_info": {
   "codemirror_mode": {
    "name": "ipython",
    "version": 3
   },
   "file_extension": ".py",
   "mimetype": "text/x-python",
   "name": "python",
   "nbconvert_exporter": "python",
   "pygments_lexer": "ipython3",
   "version": "3.11.5"
  }
 },
 "nbformat": 4,
 "nbformat_minor": 5
}
