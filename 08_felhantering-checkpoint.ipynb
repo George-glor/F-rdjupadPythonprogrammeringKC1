{
 "cells": [
  {
   "cell_type": "markdown",
   "id": "975615f5-e018-4d02-a7f2-761d1ebf8517",
   "metadata": {},
   "source": [
    "# Uppgifter, Kapitel 8 - Felhantering"
   ]
  },
  {
   "cell_type": "markdown",
   "id": "c9b652d0-5240-494e-bf22-d71a49a46a01",
   "metadata": {},
   "source": [
    "1. Din kollega Johanna frågar dig:\n",
    "   \n",
    "   a) Vad är syntax errors?\n",
    "   \n",
    "   b) Varför skulle man vilja \"fånga exceptions\" i ett program och inte bara låta programmet stanna vid fel?\n",
    "   \n",
    "   c) Varför skulle man vilja \"lyfta exceptions\" i ett program? "
   ]
  },
  {
   "cell_type": "code",
   "execution_count": null,
   "id": "083ab699-4d1c-41c2-966b-4564646232ef",
   "metadata": {},
   "outputs": [],
   "source": [
    "a- att koden har fel i syntax typ , . () <> \n",
    "b- att programmet kan hantera fel utan att krasha \n",
    "c- visar om något fel i programmet, user kan förstor vad är som är fel"
   ]
  },
  {
   "cell_type": "markdown",
   "id": "e48a5bb4-22b3-4c97-8c0e-a1ffcc636be8",
   "metadata": {},
   "source": [
    "2. a) Förklara vad nedanstående kod gör.\n",
    "\n",
    "   b) Generellt sett, vad är poängen med att använda \"else\"?  "
   ]
  },
  {
   "cell_type": "code",
   "execution_count": null,
   "id": "dd222cc8-183d-4f33-808d-2c6e996903d0",
   "metadata": {},
   "outputs": [],
   "source": [
    "def convert_string_to_int(string):\n",
    "    try:\n",
    "        int(string)\n",
    "    except ValueError:\n",
    "        return \"Invalid input, cannot convert to integer.\"\n",
    "    else:\n",
    "        return int(string)\n",
    "\n",
    "print(convert_string_to_int(\"314\")) \n",
    "print(convert_string_to_int(\"abc\"))  "
   ]
  },
  {
   "cell_type": "code",
   "execution_count": null,
   "id": "dee5888c-e288-4da9-895e-3d33690aec4d",
   "metadata": {},
   "outputs": [],
   "source": [
    "a) koden ska convertera string to heltal(int)\n",
    "except ValueError om input var inte string så det ska printa ut \"Invalid input, cannot convert to integer.\"\n",
    "om konverteringen lyckas, returneras det konverterade heltalet `int(string)`\n",
    "\n",
    "print(convert_string_to_int(\"314\")) exit : `314`.\n",
    "print(convert_string_to_int(\"abc\")) exit : \"Invalid input, cannot convert to integer.\"\n",
    "    \n",
    "b) Den bra att visa till användraen vad som är fel och programmet ska inte excute och ska försatta    "
   ]
  },
  {
   "cell_type": "markdown",
   "id": "184b8227-4840-4f2f-8f10-f4045f3ffc9b",
   "metadata": {},
   "source": [
    "3. Skriv ett kodexempel där du fångar en exception. Endast din kreativitet sätter gränser. "
   ]
  },
  {
   "cell_type": "code",
   "execution_count": 1,
   "id": "d66f40d0-e5bc-4dfa-be57-6806c06a15b0",
   "metadata": {},
   "outputs": [
    {
     "name": "stdout",
     "output_type": "stream",
     "text": [
      "The result is 5.0.\n",
      "Error: Input must be a number.\n"
     ]
    }
   ],
   "source": [
    "def divide_by_two(number):\n",
    "    try:\n",
    "        result = number / 2\n",
    "    except TypeError:\n",
    "        return \"Error: Input must be a number.\"\n",
    "    else:\n",
    "        return f\"The result is {result}.\"\n",
    "\n",
    "print(divide_by_two(10)) \n",
    "print(divide_by_two(\"a\"))  \n"
   ]
  },
  {
   "cell_type": "markdown",
   "id": "069b6e31-8faa-4550-9cb6-5300c6129167",
   "metadata": {},
   "source": [
    "4. Skapa en funktion \"add_two_small_numbers\" som adderar två tal. Om något av talen är större än 100 så skall du lyfta en exception och skriva ut meddelandet \"both numbers must be smaller than or equal to 100\". "
   ]
  },
  {
   "cell_type": "code",
   "execution_count": 2,
   "id": "1d61210b-b661-46f7-ba28-6da36d56af50",
   "metadata": {},
   "outputs": [
    {
     "name": "stdout",
     "output_type": "stream",
     "text": [
      "80\n",
      "both numbers must be smaller than or equal to 100\n"
     ]
    }
   ],
   "source": [
    "def add_two_small_numbers(num1, num2):\n",
    "    if num1 > 100 or num2 > 100:\n",
    "        raise ValueError(\"both numbers must be smaller than or equal to 100\")\n",
    "    return num1 + num2\n",
    "\n",
    "try:\n",
    "    result = add_two_small_numbers(50, 30)  \n",
    "    print(result)\n",
    "    \n",
    "    result = add_two_small_numbers(120, 30)  \n",
    "    print(result)\n",
    "except ValueError as e:\n",
    "    print(e) \n"
   ]
  },
  {
   "cell_type": "markdown",
   "id": "6b852c0d-dd8b-4baa-8ce5-7d756b45e226",
   "metadata": {},
   "source": [
    "5. Din kollega, som är en skicklig programmerare, brukar innan hon försöker göra ett perfekt fungerande program testa olika ideér för att undersöka och lära sig mer om det problem hon försöker lösa. Nedan ser du ett av hennes skript som gjorts i syfte att undersöka och lära sig mer. Förklara vad det är hon gjort. "
   ]
  },
  {
   "cell_type": "code",
   "execution_count": 3,
   "id": "b8136f69-af5b-4951-a185-fb73eb5e2e8a",
   "metadata": {},
   "outputs": [
    {
     "name": "stdout",
     "output_type": "stream",
     "text": [
      "<class 'TypeError'>\n",
      "unsupported operand type(s) for +: 'int' and 'str'\n"
     ]
    }
   ],
   "source": [
    "# Checking which exception is raised\n",
    "try:\n",
    "    5 + \"Python is fun!\"\n",
    "except Exception as exception_instance:\n",
    "    print(type(exception_instance))\n",
    "    print(exception_instance)"
   ]
  },
  {
   "cell_type": "code",
   "execution_count": 4,
   "id": "c5f5d5f5-4503-4e71-9b90-e97cc1205bae",
   "metadata": {},
   "outputs": [
    {
     "name": "stdout",
     "output_type": "stream",
     "text": [
      "<class 'ZeroDivisionError'>\n",
      "division by zero\n"
     ]
    }
   ],
   "source": [
    "# Checking which exception is raised\n",
    "try:\n",
    "    5/0\n",
    "except Exception as exception_instance:\n",
    "    print(type(exception_instance))\n",
    "    print(exception_instance)"
   ]
  },
  {
   "cell_type": "code",
   "execution_count": 9,
   "id": "31c642ee-60af-42cb-9658-5a5752782ed6",
   "metadata": {},
   "outputs": [],
   "source": [
    "def add_two_numbers(a, b):\n",
    "    try:\n",
    "        return(a/b)\n",
    "    except TypeError:\n",
    "        print(\"Both arguments must be numbers.\")\n",
    "    except ZeroDivisionError:\n",
    "        print(\"Division by zero is not defined.\")        "
   ]
  },
  {
   "cell_type": "code",
   "execution_count": 7,
   "id": "d4f76310-41bb-4f99-9ed8-e5eacef3cfe4",
   "metadata": {},
   "outputs": [
    {
     "name": "stdout",
     "output_type": "stream",
     "text": [
      "2.5\n",
      "Both arguments must be numbers.\n",
      "None\n",
      "Division by zero is not defined.\n",
      "None\n"
     ]
    }
   ],
   "source": [
    "# Testing so the functionality is as expected\n",
    "print(add_two_numbers(5, 2))\n",
    "print(add_two_numbers(5, \"hello\"))\n",
    "print(add_two_numbers(5, 0))"
   ]
  },
  {
   "cell_type": "code",
   "execution_count": null,
   "id": "b401f0f3-f93f-43bd-ad29-2fa080338002",
   "metadata": {},
   "outputs": [],
   "source": [
    "\n",
    "1. Första `try-except`: Försöker addera ett heltal med en sträng, vilket ger `TypeError`. \n",
    "    Fångar undantaget och skriver ut dess typ och meddelande.\n",
    "\n",
    "2. Andra `try-except`: Försöker dela med noll, vilket ger `ZeroDivisionError`. \n",
    "    Fångar undantaget och skriver ut dess typ och meddelande.\n",
    "\n",
    "3. Funktion `add_two_numbers`: \n",
    "   - Fångar `TypeError` om ett argument inte är ett tal.\n",
    "   - Fångar `ZeroDivisionError` vid division med noll.\n",
    "\n",
    "4. Test av funktion: \n",
    "   - `add_two_numbers(5, 2)` returnerar 2.5.\n",
    "   - `add_two_numbers(5, \"hello\")` ger `TypeError`.\n",
    "   - `add_two_numbers(5, 0)` ger `ZeroDivisionError`.\n"
   ]
  }
 ],
 "metadata": {
  "kernelspec": {
   "display_name": "Python 3 (ipykernel)",
   "language": "python",
   "name": "python3"
  },
  "language_info": {
   "codemirror_mode": {
    "name": "ipython",
    "version": 3
   },
   "file_extension": ".py",
   "mimetype": "text/x-python",
   "name": "python",
   "nbconvert_exporter": "python",
   "pygments_lexer": "ipython3",
   "version": "3.11.5"
  }
 },
 "nbformat": 4,
 "nbformat_minor": 5
}
